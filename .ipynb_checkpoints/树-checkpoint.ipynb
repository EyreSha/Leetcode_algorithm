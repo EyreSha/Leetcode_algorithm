{
 "cells": [
  {
   "cell_type": "code",
   "execution_count": null,
   "metadata": {},
   "outputs": [],
   "source": [
    "# 二叉树遍历\n",
    "\"\"\"\n",
    "106 根据二叉树遍历推出二叉树\n",
    "\"\"\"\n",
    "class TreeNode:\n",
    "    def __init__(self, val=0, left=None, right=None):\n",
    "        self.val = val\n",
    "        self.left = left\n",
    "        self.right = right\n",
    "\n",
    "def buildTree(inorder, postorder):\n",
    "    def helper(in_left, in_right):\n",
    "        # 如果这里没有节点构造二叉树了，就结束\n",
    "        if in_left > in_right:\n",
    "            return None\n",
    "            \n",
    "        # 选择 post_idx 位置的元素作为当前子树根节点\n",
    "        val = postorder.pop() # 后序遍历的最后一个元素是根节点\n",
    "        root = TreeNode(val)\n",
    "\n",
    "        # 根据 root 所在位置分成左右两棵子树\n",
    "        index = idx_map[val]\n",
    " \n",
    "        # 构造右子树\n",
    "        root.right = helper(index + 1, in_right)\n",
    "        # 构造左子树\n",
    "        root.left = helper(in_left, index - 1)\n",
    "        return root\n",
    "        \n",
    "    # 建立（元素，下标）键值对的哈希表\n",
    "    idx_map = {val:idx for idx, val in enumerate(inorder)} \n",
    "    return helper(0, len(inorder) - 1)\n",
    "\n",
    "inorder = [9,3,15,20,7]\n",
    "postorder = [9,15,7,20,3]\n",
    "print(buildTree(inorder, postorder))"
   ]
  },
  {
   "cell_type": "code",
   "execution_count": null,
   "metadata": {},
   "outputs": [],
   "source": [
    "# B-树\n"
   ]
  },
  {
   "cell_type": "code",
   "execution_count": null,
   "metadata": {},
   "outputs": [],
   "source": [
    "# B+树\n"
   ]
  },
  {
   "cell_type": "code",
   "execution_count": null,
   "metadata": {},
   "outputs": [],
   "source": [
    "# 红黑树\n"
   ]
  }
 ],
 "metadata": {
  "kernelspec": {
   "display_name": "Python 3",
   "language": "python",
   "name": "python3"
  },
  "language_info": {
   "codemirror_mode": {
    "name": "ipython",
    "version": 3
   },
   "file_extension": ".py",
   "mimetype": "text/x-python",
   "name": "python",
   "nbconvert_exporter": "python",
   "pygments_lexer": "ipython3",
   "version": "3.6.5"
  }
 },
 "nbformat": 4,
 "nbformat_minor": 2
}
