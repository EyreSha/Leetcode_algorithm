{
 "cells": [
  {
   "cell_type": "code",
   "execution_count": 1,
   "metadata": {},
   "outputs": [
    {
     "name": "stdout",
     "output_type": "stream",
     "text": [
      "-1\n"
     ]
    }
   ],
   "source": [
    "\"\"\"\n",
    "28\n",
    "判断情况：\n",
    "needle为空\n",
    "haystack为空\n",
    "len_haystack < len_needle\n",
    "\n",
    "循环终止条件\n",
    "i == len_haystack-len_needle\n",
    "\"\"\"\n",
    "\n",
    "haystack = \"aaa\"\n",
    "needle = \"aaaaa\"\n",
    "\n",
    "def strStr(haystack, needle):\n",
    "        len_needle = len(needle)\n",
    "        len_haystack = len(haystack)\n",
    "        \n",
    "        if needle == '':\n",
    "            return 0\n",
    "        \n",
    "        if haystack == '':\n",
    "            return -1\n",
    "        \n",
    "        if len_haystack < len_needle:\n",
    "            return -1\n",
    "        \n",
    "        for i in range(len_haystack):\n",
    "            if haystack[i:i+len_needle] == needle:\n",
    "                return i\n",
    "                break\n",
    "            elif i == len_haystack-len_needle and haystack[i:i+len_needle] != needle:\n",
    "                return -1\n",
    "        \n",
    "s = strStr(haystack, needle)\n",
    "print(s)"
   ]
  },
  {
   "cell_type": "code",
   "execution_count": 4,
   "metadata": {},
   "outputs": [
    {
     "name": "stdout",
     "output_type": "stream",
     "text": [
      "\n",
      "\n",
      "0\n"
     ]
    }
   ],
   "source": [
    "\"\"\"\n",
    "28\n",
    "优化1， 官方解答\n",
    "注意\n",
    "list[0:0]为空，等于\"\"，三个判断条件变成一个  \n",
    "\n",
    "\"\"\"\n",
    "haystack = \"\"\n",
    "needle = \"\"\n",
    "\n",
    "def strStr(haystack, needle):\n",
    "        len_needle = len(needle)\n",
    "        len_haystack = len(haystack)\n",
    "        \n",
    "        for i in range(len_haystack-len_needle+1):\n",
    "            if haystack[i:i+len_needle] == needle:\n",
    "                #print(haystack[i:i+len_needle])\n",
    "                #print(needle)\n",
    "                return i\n",
    "        return -1\n",
    "        \n",
    "s = strStr(haystack, needle)\n",
    "print(s)"
   ]
  },
  {
   "cell_type": "code",
   "execution_count": 17,
   "metadata": {},
   "outputs": [
    {
     "name": "stdout",
     "output_type": "stream",
     "text": [
      "5\n"
     ]
    }
   ],
   "source": [
    "\"\"\"\n",
    "28\n",
    "优化2，python正则\n",
    "\n",
    "\"\"\"\n",
    "haystack = \"aaaaabs\"\n",
    "needle = \"bs\"\n",
    "\n",
    "def strStr(haystack, needle):\n",
    "    return 0 if needle == \"\" else haystack.find(needle)\n",
    "        \n",
    "s = strStr(haystack, needle)\n",
    "print(s)\n"
   ]
  },
  {
   "cell_type": "code",
   "execution_count": 19,
   "metadata": {},
   "outputs": [
    {
     "name": "stdout",
     "output_type": "stream",
     "text": [
      "True\n"
     ]
    }
   ],
   "source": [
    "\"\"\"\n",
    "28\n",
    "优化3， KMP\n",
    "\n",
    "\"\"\"\n",
    "# next[i]=max{k | 1<=k<i s[0...k-1]=s[i-k,...,i-1]}\n",
    "def get_next(s):\n",
    "    n = len(s)\n",
    "    nxt = [0]*(n+1)\n",
    "    nxt[0]=-1\n",
    "    nxt[1]=0\n",
    "    # i 表示待求的next数组的下标\n",
    "    for i in range(2,n+1):\n",
    "        j = nxt[i-1]\n",
    "        # 如果没有 s[i-1]!=s[j], 且没有到达边界(j==-1) 则退回 j=nxt[j]\n",
    "        while j!=-1 and s[i-1]!=s[j]:\n",
    "            j = nxt[j]\n",
    "        nxt[i] = j+1\n",
    "    return nxt\n",
    "\n",
    "\n",
    "def strStr(haystack, needle):\n",
    "    i=0\n",
    "    j=0\n",
    "    nxt = get_next(needle)\n",
    "    while i<len(haystack) and j<len(needle):\n",
    "        # 如果匹配 或者 没有长度大于0的公共前后缀 则i j都前进一步 否则 j=next[j]\n",
    "        if j==-1 or haystack[i]==needle[j]:\n",
    "            i+=1\n",
    "            j+=1\n",
    "        else:\n",
    "            j = nxt[j]\n",
    "    return j==len(needle)\n",
    "\n",
    "haystack = \"aaaaabs\"\n",
    "needle = \"bs\"\n",
    "\n",
    "t = strStr(haystack, needle)\n",
    "print(t)"
   ]
  },
  {
   "cell_type": "code",
   "execution_count": null,
   "metadata": {},
   "outputs": [],
   "source": [
    "\"\"\"\n",
    "29\n",
    "\n",
    "\"\"\"\n",
    "def divide(dividend, divisor):\n",
    "        if divisor == 0:\n",
    "            return null\n",
    "        elif dividend < 0 and divisor > 0:\n",
    "            dividend = -dividend\n",
    "            sub_divide(dividend, divisor)\n",
    "        elif dividend > 0 and divisor < 0:\n",
    "            divisor = -divisor\n",
    "            sub_divide(dividend, divisor)\n",
    "        elif dividend < 0 and divisor < 0:\n",
    "            dividend = -dividend\n",
    "            divisor = -divisor\n",
    "            sub_divide(dividend, divisor)\n",
    "        elif dividend > 0 and divisor > 0:\n",
    "            sub_divide(dividend, divisor) \n",
    "\n",
    "\n",
    "def sub_divide(dividend, divisor):\n",
    "    n = 0\n",
    "    while dividend-divisor>=0:\n",
    "        n += 1\n",
    "        \n",
    "    return n\n",
    "    \n",
    "dividend = 10\n",
    "divisor = 3\n",
    "t = divide(dividend, divisor)\n",
    "\n",
    "print(t)"
   ]
  },
  {
   "cell_type": "code",
   "execution_count": 3,
   "metadata": {},
   "outputs": [
    {
     "name": "stdout",
     "output_type": "stream",
     "text": [
      "3\n"
     ]
    }
   ],
   "source": [
    "\"\"\"\n",
    "29 优化\n",
    "二进制搜索\n",
    "\"\"\"\n",
    "def divide(dividend, divisor):\n",
    "        MIN_INT, MAX_INT = -(2**31), (2**31-1)  # [−2**31, 2**31−1]\n",
    "        flag = 1                                    # 存储正负号，并将分子分母转化为正数\n",
    "        if dividend < 0: \n",
    "            flag, dividend = -flag, -dividend\n",
    "        if divisor < 0: \n",
    "            flag, divisor  = -flag, -divisor \n",
    "        \n",
    "        def div(dividend, divisor):                 # 例：1023 / 1 = 512 + 256 + 128 + 64 + 32 + 16 + 8 + 4 + 1\n",
    "            if dividend < divisor:\n",
    "                return 0\n",
    "            cur = divisor\n",
    "            multiple = 1\n",
    "            while cur + cur < dividend:             # 用加法求出保证divisor * multiple <= dividend的最大multiple\n",
    "                cur += cur                          # 即cur分别乘以1, 2, 4, 8, 16...2^n，即二进制搜索\n",
    "                multiple += multiple\n",
    "            return multiple + div(dividend - cur, divisor)\n",
    "        res = div(dividend, divisor)\n",
    "\n",
    "        res = res if flag > 0 else -res             # 恢复正负号\n",
    "        \n",
    "        if res < MIN_INT:                           # 根据是否溢出返回结果\n",
    "            return MIN_INT\n",
    "        elif MIN_INT <= res <= MAX_INT:\n",
    "            return res\n",
    "        else:\n",
    "            return MAX_INT\n",
    "\n",
    "dividend = 10\n",
    "divisor = 3\n",
    "t = divide(dividend, divisor)\n",
    "\n",
    "print(t)"
   ]
  },
  {
   "cell_type": "code",
   "execution_count": null,
   "metadata": {},
   "outputs": [],
   "source": []
  }
 ],
 "metadata": {
  "kernelspec": {
   "display_name": "Python 3",
   "language": "python",
   "name": "python3"
  },
  "language_info": {
   "codemirror_mode": {
    "name": "ipython",
    "version": 3
   },
   "file_extension": ".py",
   "mimetype": "text/x-python",
   "name": "python",
   "nbconvert_exporter": "python",
   "pygments_lexer": "ipython3",
   "version": "3.6.5"
  }
 },
 "nbformat": 4,
 "nbformat_minor": 2
}
