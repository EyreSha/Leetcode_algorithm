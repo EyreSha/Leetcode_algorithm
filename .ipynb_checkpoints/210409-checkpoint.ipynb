{
 "cells": [
  {
   "cell_type": "code",
   "execution_count": 2,
   "metadata": {},
   "outputs": [
    {
     "name": "stdout",
     "output_type": "stream",
     "text": [
      "2\n"
     ]
    }
   ],
   "source": [
    "\"\"\"\n",
    "461 汉明距离: 这两个数字对应二进制位不同的位置的数目 \n",
    "位运算\n",
    "布赖恩·克尼根算法\n",
    "遇到最右边的 1 后，如果可以跳过中间的 0，直接跳到下一个 1，效率会高很多。\n",
    "\n",
    "这是布赖恩·克尼根位计数算法的基本思想。该算法使用特定比特位和算术运算移除等于 1 的最右比特位\n",
    "\"\"\"\n",
    "def hammingDistance(x, y):\n",
    "    xor = x ^ y\n",
    "    cnt = 0\n",
    "    while xor:\n",
    "        xor = xor & (xor-1) #可以迅速检测最右边的第一个非零\n",
    "        cnt += 1\n",
    "    return cnt\n",
    "\n",
    "x = 1\n",
    "y = 4\n",
    "print(hammingDistance(x, y))"
   ]
  },
  {
   "cell_type": "code",
   "execution_count": 4,
   "metadata": {},
   "outputs": [
    {
     "name": "stdout",
     "output_type": "stream",
     "text": [
      "0b101\n",
      "2\n"
     ]
    }
   ],
   "source": [
    "\"\"\"\n",
    "461 优化\n",
    "python一行代码，内置函数\n",
    "\"\"\"\n",
    "def hammingDistance(x, y):\n",
    "    print(bin(x ^ y))\n",
    "    return bin(x ^ y).count('1')\n",
    "    \n",
    "x = 1\n",
    "y = 4\n",
    "print(hammingDistance(x, y))"
   ]
  },
  {
   "cell_type": "code",
   "execution_count": null,
   "metadata": {},
   "outputs": [],
   "source": [
    "\"\"\"\n",
    "461 位移\n",
    "\"\"\"\n",
    "def hammingDistance(x, y):\n",
    "    xor = x ^ y\n",
    "    distance = 0\n",
    "    while xor:\n",
    "        # mask out the rest bits\n",
    "        if xor & 1:\n",
    "            distance += 1\n",
    "            xor = xor >> 1\n",
    "    return distance\n",
    "\n",
    "x = 1\n",
    "y = 4\n",
    "print(hammingDistance(x, y))"
   ]
  },
  {
   "cell_type": "code",
   "execution_count": 9,
   "metadata": {},
   "outputs": [
    {
     "ename": "TypeError",
     "evalue": "mergeTrees() missing 1 required positional argument: 'root2'",
     "output_type": "error",
     "traceback": [
      "\u001b[1;31m---------------------------------------------------------------------------\u001b[0m",
      "\u001b[1;31mTypeError\u001b[0m                                 Traceback (most recent call last)",
      "\u001b[1;32m<ipython-input-9-18a26ba1d817>\u001b[0m in \u001b[0;36m<module>\u001b[1;34m()\u001b[0m\n\u001b[0;32m     26\u001b[0m \u001b[0mtree2\u001b[0m \u001b[1;33m=\u001b[0m \u001b[1;33m[\u001b[0m\u001b[1;36m2\u001b[0m\u001b[1;33m,\u001b[0m\u001b[1;36m1\u001b[0m\u001b[1;33m,\u001b[0m\u001b[1;36m3\u001b[0m\u001b[1;33m,\u001b[0m\u001b[1;36m4\u001b[0m\u001b[1;33m,\u001b[0m\u001b[1;36m7\u001b[0m\u001b[1;33m]\u001b[0m\u001b[1;33m\u001b[0m\u001b[0m\n\u001b[0;32m     27\u001b[0m \u001b[1;33m\u001b[0m\u001b[0m\n\u001b[1;32m---> 28\u001b[1;33m \u001b[0mSolution\u001b[0m\u001b[1;33m.\u001b[0m\u001b[0mmergeTrees\u001b[0m\u001b[1;33m(\u001b[0m\u001b[0mtree1\u001b[0m\u001b[1;33m[\u001b[0m\u001b[1;36m0\u001b[0m\u001b[1;33m]\u001b[0m\u001b[1;33m,\u001b[0m \u001b[0mtree2\u001b[0m\u001b[1;33m[\u001b[0m\u001b[1;36m0\u001b[0m\u001b[1;33m]\u001b[0m\u001b[1;33m)\u001b[0m\u001b[1;33m\u001b[0m\u001b[0m\n\u001b[0m",
      "\u001b[1;31mTypeError\u001b[0m: mergeTrees() missing 1 required positional argument: 'root2'"
     ]
    }
   ],
   "source": [
    "\"\"\"\n",
    "417 二叉树合并\n",
    "深度优先搜索\n",
    "tips:\n",
    "注意测试的输入以及类的使用方法\n",
    "\"\"\"\n",
    "# Definition for a binary tree node.\n",
    "class TreeNode:\n",
    "    def __init__(self, val=0, left=None, right=None):\n",
    "        self.val = val\n",
    "        self.left = left\n",
    "        self.right = right\n",
    "        \n",
    "class Solution:\n",
    "    def mergeTrees(self, root1: TreeNode, root2: TreeNode) -> TreeNode:\n",
    "        if not root1:\n",
    "            return root2\n",
    "        if not root2:\n",
    "            return root1\n",
    "        \n",
    "        result = TreeNode(root1.val+root2.val)\n",
    "        result.left = self.mergeTrees(root1.left, root2.left)\n",
    "        result.right = self.mergeTrees(root1.right, root2.right)\n",
    "\n",
    "        return result\n",
    "\n",
    "tree1 = [1,3,2,5]\n",
    "tree2 = [2,1,3,4,7]\n",
    "\n",
    "Solution.mergeTrees(tree1[0], tree2[0])"
   ]
  },
  {
   "cell_type": "code",
   "execution_count": 10,
   "metadata": {},
   "outputs": [
    {
     "name": "stdout",
     "output_type": "stream",
     "text": [
      "3\n"
     ]
    }
   ],
   "source": [
    "\"\"\"\n",
    "771 石头里的宝石数\n",
    "\"\"\"\n",
    "# 暴力法， O(mn)\n",
    "def numJewelsInStones(jewels, stones):\n",
    "    return sum(1 for i in stones for j in jewels if j == i)\n",
    "\n",
    "jewels = \"aA\"\n",
    "stones = \"aAAbbbb\"\n",
    "print(numJewelsInStones(jewels, stones))"
   ]
  },
  {
   "cell_type": "code",
   "execution_count": 11,
   "metadata": {},
   "outputs": [
    {
     "name": "stdout",
     "output_type": "stream",
     "text": [
      "3\n"
     ]
    }
   ],
   "source": [
    "\"\"\"\n",
    "771 石头里的宝石数\n",
    "\"\"\"\n",
    "# 哈希集合， O(m+n)\n",
    "def numJewelsInStones(jewels, stones):\n",
    "    return sum(1 for i in stones if i in set(jewels))\n",
    "\n",
    "jewels = \"aA\"\n",
    "stones = \"aAAbbbb\"\n",
    "print(numJewelsInStones(jewels, stones))"
   ]
  },
  {
   "cell_type": "code",
   "execution_count": 35,
   "metadata": {},
   "outputs": [
    {
     "name": "stdout",
     "output_type": "stream",
     "text": [
      "[1, 2, 3, 5]\n"
     ]
    }
   ],
   "source": [
    "\"\"\"\n",
    "912 排序数组\n",
    "\"\"\"\n",
    "#冒泡\n",
    "# 比较方式是i=0: 1,2,3; i=1: 2,3; i=2: 3\n",
    "def sortArray(nums):\n",
    "    n = len(nums)\n",
    "    for i in range(n):\n",
    "        for j in range(1,n-i):\n",
    "            if nums[j-1]>nums[j]:\n",
    "                nums[j-1], nums[j] = nums[j], nums[j-1]\n",
    "    return nums\n",
    "\n",
    "nums = [5,2,3,1]\n",
    "print(sortArray(nums))"
   ]
  },
  {
   "cell_type": "code",
   "execution_count": 25,
   "metadata": {},
   "outputs": [
    {
     "name": "stdout",
     "output_type": "stream",
     "text": [
      "[1, 2, 3, 5]\n"
     ]
    }
   ],
   "source": [
    "\"\"\"\n",
    "912 排序数组\n",
    "\"\"\"\n",
    "#快排\n",
    "import random\n",
    "\n",
    "def randomized_partition(nums, l, r):\n",
    "    pivot = random.randint(l, r)\n",
    "    nums[pivot], nums[r] = nums[r], nums[pivot]\n",
    "    i = l - 1  # 两个指针i, j，i控制最小值的交换，j控制遍历\n",
    "    for j in range(l, r):\n",
    "        if nums[j] < nums[r]:\n",
    "            i += 1\n",
    "            nums[j], nums[i] = nums[i], nums[j]\n",
    "    i += 1\n",
    "    nums[i], nums[r] = nums[r], nums[i]\n",
    "    return i\n",
    "\n",
    "def randomized_quicksort(nums, l, r):\n",
    "    if r - l <= 0:\n",
    "        return\n",
    "    mid = randomized_partition(nums, l, r)\n",
    "    randomized_quicksort(nums, l, mid - 1)\n",
    "    randomized_quicksort(nums, mid + 1, r)\n",
    "\n",
    "def sortArray(nums):\n",
    "    randomized_quicksort(nums, 0, len(nums) - 1)\n",
    "    return nums\n",
    "\n",
    "nums = [5,2,3,1]\n",
    "print(sortArray(nums))"
   ]
  },
  {
   "cell_type": "code",
   "execution_count": null,
   "metadata": {},
   "outputs": [],
   "source": [
    "\"\"\"\n",
    "912 排序数组\n",
    "\"\"\"\n",
    "#堆排\n",
    "\n",
    "\n",
    "\n",
    "nums = [5,2,3,1]\n",
    "print(sortArray(nums))"
   ]
  },
  {
   "cell_type": "code",
   "execution_count": null,
   "metadata": {},
   "outputs": [],
   "source": [
    "\"\"\"\n",
    "912 排序数组\n",
    "\"\"\"\n",
    "# 归并排序\n",
    "\n",
    "\n",
    "\n",
    "nums = [5,2,3,1]\n",
    "print(sortArray(nums))"
   ]
  },
  {
   "cell_type": "code",
   "execution_count": 26,
   "metadata": {},
   "outputs": [
    {
     "name": "stdout",
     "output_type": "stream",
     "text": [
      "[4, 5, 2, 7]\n"
     ]
    }
   ],
   "source": [
    "\"\"\"\n",
    "922 奇偶排序\n",
    "\"\"\"\n",
    "def sortArrayByParityII(nums):\n",
    "    B = [0]*len(nums)\n",
    "\n",
    "    i = 0\n",
    "    j = 1\n",
    "\n",
    "    for a in nums:\n",
    "        if a%2==0:\n",
    "            B[i] = a\n",
    "            i += 2\n",
    "        else:\n",
    "            B[j] = a\n",
    "            j += 2\n",
    "\n",
    "    return B\n",
    "\n",
    "nums = [4,2,5,7]\n",
    "print(sortArrayByParityII(nums))"
   ]
  },
  {
   "cell_type": "code",
   "execution_count": null,
   "metadata": {},
   "outputs": [],
   "source": []
  }
 ],
 "metadata": {
  "kernelspec": {
   "display_name": "Python 3",
   "language": "python",
   "name": "python3"
  },
  "language_info": {
   "codemirror_mode": {
    "name": "ipython",
    "version": 3
   },
   "file_extension": ".py",
   "mimetype": "text/x-python",
   "name": "python",
   "nbconvert_exporter": "python",
   "pygments_lexer": "ipython3",
   "version": "3.6.5"
  }
 },
 "nbformat": 4,
 "nbformat_minor": 2
}
