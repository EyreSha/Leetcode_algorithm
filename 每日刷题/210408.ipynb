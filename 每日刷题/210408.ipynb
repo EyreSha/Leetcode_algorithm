{
 "cells": [
  {
   "cell_type": "code",
   "execution_count": 31,
   "metadata": {},
   "outputs": [
    {
     "name": "stdout",
     "output_type": "stream",
     "text": [
      "6\n"
     ]
    }
   ],
   "source": [
    "\"\"\"\n",
    "152 乘积最大子数组\n",
    "\"\"\"\n",
    "def maxProduct(nums):\n",
    "    maxF = nums[0]\n",
    "    minF = nums[0]\n",
    "    ans = nums[0]\n",
    "    for i in range(1, len(nums)):\n",
    "        mx = maxF\n",
    "        mn = minF\n",
    "        maxF = max(mx * nums[i], max(nums[i], mn * nums[i]))\n",
    "        minF = min(mn * nums[i], min(nums[i], mx * nums[i]))\n",
    "        ans = max(maxF, ans)\n",
    "        \n",
    "    return ans\n",
    "\n",
    "nums = [2,3,-2,4]\n",
    "print(maxProduct(nums))"
   ]
  },
  {
   "cell_type": "code",
   "execution_count": 32,
   "metadata": {},
   "outputs": [
    {
     "name": "stdout",
     "output_type": "stream",
     "text": [
      "6\n"
     ]
    }
   ],
   "source": [
    "\"\"\"\n",
    "53 和最大子数组\n",
    "\"\"\"\n",
    "def maxSubArray(nums):\n",
    "    maxF = nums[0]\n",
    "    ans = nums[0]\n",
    "    for i in range(1, len(nums)):\n",
    "        mx = maxF\n",
    "        maxF = max(mx+nums[i], nums[i])\n",
    "        ans = max(maxF, ans)\n",
    "    return ans\n",
    "\n",
    "nums = [-2,1,-3,4,-1,2,1,-5,4]\n",
    "print(maxSubArray(nums))"
   ]
  },
  {
   "cell_type": "code",
   "execution_count": 23,
   "metadata": {},
   "outputs": [
    {
     "name": "stdout",
     "output_type": "stream",
     "text": [
      "11\n",
      "3\n"
     ]
    }
   ],
   "source": [
    "\"\"\"\n",
    "191\n",
    "\"\"\"\n",
    "def hammingWeight(n):\n",
    "    ret = sum(1 for i in range(32) if n & (1 << i)) \n",
    "    return ret\n",
    "\n",
    "n = int(0b00000000000000000000000000001011)\n",
    "print(n)\n",
    "print(hammingWeight(n))"
   ]
  },
  {
   "cell_type": "code",
   "execution_count": 22,
   "metadata": {},
   "outputs": [
    {
     "name": "stdout",
     "output_type": "stream",
     "text": [
      "请输入一个整数：0b00000000000000000000000000001011\n",
      "11\n",
      "3\n"
     ]
    }
   ],
   "source": [
    "def hammingWeight(n):\n",
    "    count = 0\n",
    "    for i in range(32):\n",
    "        if n & (1 << i):\n",
    "            count += 1\n",
    "    return count\n",
    "\n",
    "n=eval(input(\"请输入一个整数：\"))\n",
    "print(n)\n",
    "print(hammingWeight(n))"
   ]
  },
  {
   "cell_type": "code",
   "execution_count": 35,
   "metadata": {},
   "outputs": [
    {
     "name": "stdout",
     "output_type": "stream",
     "text": [
      "[3, 2, 5, 6, 4, 1]\n",
      "[3, 5, 6, 4, 2, 1]\n",
      "[5, 6, 4, 3, 2, 1]\n",
      "[6, 5, 4, 3, 2, 1]\n",
      "[6, 5, 4, 3, 2, 1]\n",
      "[6, 5, 4, 3, 2, 1]\n",
      "5\n"
     ]
    }
   ],
   "source": [
    "\"\"\"\n",
    "215\n",
    "\"\"\"\n",
    "# 冒泡\n",
    "def findKthLargest(nums, k):\n",
    "    for i in range(len(nums)):\n",
    "        for j in range(1,len(nums)-i):\n",
    "            if nums[j-1]<nums[j]:\n",
    "                nums[j-1], nums[j] = nums[j], nums[j-1]\n",
    "                \n",
    "        print(nums)\n",
    "    return nums[k-1]\n",
    "\n",
    "nums = [3,2,1,5,6,4]\n",
    "k = 2\n",
    "print(findKthLargest(nums, k))"
   ]
  },
  {
   "cell_type": "code",
   "execution_count": 46,
   "metadata": {},
   "outputs": [
    {
     "name": "stdout",
     "output_type": "stream",
     "text": [
      "5\n",
      "[6, 5, 4, 3, 2, 1]\n"
     ]
    }
   ],
   "source": [
    "\"\"\"\n",
    "215 \n",
    "\"\"\"\n",
    "# 快排\n",
    "import random\n",
    "\n",
    "def randomized_partition(nums, l, r):\n",
    "    pivot = random.randint(l,r)\n",
    "    nums[pivot], nums[r] = nums[r], nums[pivot]\n",
    "    i = l-1\n",
    "    for j in range(l, r):\n",
    "        if nums[j]>nums[r]:\n",
    "            i = i+1\n",
    "            nums[i], nums[j] = nums[j], nums[i]\n",
    "    i = i+1\n",
    "    nums[i], nums[r] = nums[r], nums[i]\n",
    "    return i\n",
    "    \n",
    "def quickSort(nums, l, r):\n",
    "    if r-l<0:\n",
    "        return\n",
    "    mid = randomized_partition(nums, l, r)\n",
    "    quickSort(nums, l, mid-1)\n",
    "    quickSort(nums, mid+1, r)\n",
    "    return nums\n",
    "\n",
    "def findKthLargest(nums, k):\n",
    "    sort_nums = quickSort(nums, 0, len(nums)-1)\n",
    "    return sort_nums[k-1]\n",
    "\n",
    "nums = [3,2,1,5,6,4]\n",
    "print(findKthLargest(nums, k))\n",
    "print(nums)"
   ]
  },
  {
   "cell_type": "code",
   "execution_count": null,
   "metadata": {},
   "outputs": [],
   "source": []
  }
 ],
 "metadata": {
  "kernelspec": {
   "display_name": "Python 3",
   "language": "python",
   "name": "python3"
  },
  "language_info": {
   "codemirror_mode": {
    "name": "ipython",
    "version": 3
   },
   "file_extension": ".py",
   "mimetype": "text/x-python",
   "name": "python",
   "nbconvert_exporter": "python",
   "pygments_lexer": "ipython3",
   "version": "3.6.5"
  }
 },
 "nbformat": 4,
 "nbformat_minor": 2
}
