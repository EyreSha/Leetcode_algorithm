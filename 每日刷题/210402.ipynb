{
 "cells": [
  {
   "cell_type": "code",
   "execution_count": 1,
   "metadata": {},
   "outputs": [
    {
     "name": "stdout",
     "output_type": "stream",
     "text": [
      "-1\n"
     ]
    }
   ],
   "source": [
    "\"\"\"\n",
    "33\n",
    "绕开旋转这个设定，暴力匹配，O(n)\n",
    "\"\"\"\n",
    "\n",
    "def search(nums, target):\n",
    "    for i in range(len(nums)):\n",
    "        if nums[i]==target:\n",
    "            return i\n",
    "    return -1\n",
    "\n",
    "nums = [4,5,6,7,0,1,2]\n",
    "target = 3\n",
    "index_i = search(nums, target)\n",
    "\n",
    "print(index_i)"
   ]
  },
  {
   "cell_type": "code",
   "execution_count": null,
   "metadata": {},
   "outputs": [],
   "source": [
    "\"\"\"\n",
    "33\n",
    "使用二分查找，注意旋转的设定\n",
    "将数组一分为二，其中一定有一个是有序的，另一个可能是有序，也能是部分有序。\n",
    "此时有序部分用二分法查找。\n",
    "无序部分再一分为二，其中一个一定有序，另一个可能有序，可能无序。就这样循环.\n",
    "\"\"\"\n",
    "\n",
    "def search(nums, target):\n",
    "    len_nums = len(nums)\n",
    "    left = 0\n",
    "    right = len_nums - 1\n",
    "    mid = (left+right)//2\n",
    "    while(left<right):\n",
    "        if nums[mid]==target:\n",
    "            return mid\n",
    "        elif nums[mid]<nums[right]:\n",
    "            if nums[mid]<target and target<nums[right]:\n",
    "                left = mid + 1\n",
    "            else:\n",
    "                right = mid - 1\n",
    "        elif nums[left]<nums[left]:\n",
    "            if nums[left]<target and target<nums[mid]:\n",
    "                right = mid - 1\n",
    "            else:\n",
    "                left = mid + 1\n",
    "        \n",
    "    return -1\n",
    "\n",
    "nums = [4,5,6,7,0,1,2]\n",
    "target = 3\n",
    "index_i = search(nums, target)\n",
    "\n",
    "print(index_i)"
   ]
  },
  {
   "cell_type": "code",
   "execution_count": 15,
   "metadata": {},
   "outputs": [
    {
     "name": "stdout",
     "output_type": "stream",
     "text": [
      "[0, 0, 1, 1, 2, 2]\n"
     ]
    }
   ],
   "source": [
    "\"\"\"\n",
    "75\n",
    "\"\"\"\n",
    "def sortColors(nums):\n",
    "\n",
    "    n = len(nums)\n",
    "    index = 0\n",
    "    l = 0\n",
    "    r = n-1\n",
    "    while index<=r:\n",
    "        if nums[index]==0:\n",
    "            nums[index] = nums[l]\n",
    "            nums[l] = 0    \n",
    "            l += 1\n",
    "            index += 1\n",
    "        elif nums[index]==1:\n",
    "            index += 1\n",
    "        else:\n",
    "            nums[index] = nums[r]\n",
    "            nums[r] = 2\n",
    "            r -= 1\n",
    "            \n",
    "nums = [2,0,2,1,1,0]\n",
    "sortColors(nums)\n",
    "print(nums)"
   ]
  },
  {
   "cell_type": "code",
   "execution_count": 16,
   "metadata": {},
   "outputs": [
    {
     "name": "stdout",
     "output_type": "stream",
     "text": [
      "[0, 0, 1, 1, 2, 2]\n"
     ]
    }
   ],
   "source": [
    "\"\"\"\n",
    "75 优化版\n",
    "\n",
    "这是一道典型的指针问题，我们维护left指针用来定位0的位置，维护right指针用来定位2的位置。\n",
    "\n",
    "然后添加一个递增的point指针开始遍历数组，当发现0时，和left指针内容互换。然后left指针+=1，point指针+=1\n",
    "\n",
    "当发现2时，和right指针内容互换，right指针+=1，但此时注意，先不要添加point指针。\n",
    "\n",
    "因为point是从左向右移动的，所以point走过的路，left交不上，但right指针的交换后内容，可能是0，此时需要再次判断后再增加point指针。\n",
    "\"\"\"\n",
    "def sortColors(nums):\n",
    "    \"\"\"\n",
    "    Do not return anything, modify nums in-place instead.\n",
    "    \"\"\"\n",
    "    left = point = 0\n",
    "    right = len(nums) - 1\n",
    "    while point <= right:\n",
    "        if nums[point] == 0:\n",
    "            nums[point], nums[left] = nums[left], nums[point]\n",
    "            left += 1\n",
    "            point += 1\n",
    "        elif nums[point] == 2:\n",
    "            nums[point], nums[right] = nums[right], nums[point]\n",
    "            right -= 1\n",
    "        else:\n",
    "            point += 1\n",
    "\n",
    "nums = [2,0,2,1,1,0]\n",
    "sortColors(nums)\n",
    "print(nums)"
   ]
  },
  {
   "cell_type": "code",
   "execution_count": 21,
   "metadata": {},
   "outputs": [
    {
     "name": "stdout",
     "output_type": "stream",
     "text": [
      "<__main__.TreeNode object at 0x00000210DB663B70>\n"
     ]
    }
   ],
   "source": [
    "\"\"\"\n",
    "106 根据二叉树遍历推出二叉树\n",
    "\"\"\"\n",
    "class TreeNode:\n",
    "    def __init__(self, val=0, left=None, right=None):\n",
    "        self.val = val\n",
    "        self.left = left\n",
    "        self.right = right\n",
    "\n",
    "def buildTree(inorder, postorder):\n",
    "    def helper(in_left, in_right):\n",
    "        # 如果这里没有节点构造二叉树了，就结束\n",
    "        if in_left > in_right:\n",
    "            return None\n",
    "            \n",
    "        # 选择 post_idx 位置的元素作为当前子树根节点\n",
    "        val = postorder.pop() # 后序遍历的最后一个元素是根节点\n",
    "        root = TreeNode(val)\n",
    "\n",
    "        # 根据 root 所在位置分成左右两棵子树\n",
    "        index = idx_map[val]\n",
    " \n",
    "        # 构造右子树\n",
    "        root.right = helper(index + 1, in_right)\n",
    "        # 构造左子树\n",
    "        root.left = helper(in_left, index - 1)\n",
    "        return root\n",
    "        \n",
    "    # 建立（元素，下标）键值对的哈希表\n",
    "    idx_map = {val:idx for idx, val in enumerate(inorder)} \n",
    "    return helper(0, len(inorder) - 1)\n",
    "\n",
    "inorder = [9,3,15,20,7]\n",
    "postorder = [9,15,7,20,3]\n",
    "print(buildTree(inorder, postorder))\n"
   ]
  },
  {
   "cell_type": "code",
   "execution_count": 22,
   "metadata": {},
   "outputs": [
    {
     "name": "stdout",
     "output_type": "stream",
     "text": [
      "[[1], [1, 1], [1, 2, 1], [1, 3, 3, 1], [1, 4, 6, 4, 1]]\n"
     ]
    }
   ],
   "source": [
    "\"\"\"\n",
    "118\n",
    "\"\"\"\n",
    "\n",
    "def generate(numRows):\n",
    "    ret = []\n",
    "    for i in range(numRows):\n",
    "        row = []\n",
    "        for j in range(0, i+1):\n",
    "            if j==0 or i==j:\n",
    "                row.append(1)\n",
    "            else:\n",
    "                row.append(ret[i-1][j-1]+ret[i-1][j])\n",
    "\n",
    "        ret.append(row)\n",
    "    return ret\n",
    "\n",
    "numRows = 5\n",
    "result = generate(numRows)\n",
    "\n",
    "print(result)"
   ]
  },
  {
   "cell_type": "code",
   "execution_count": null,
   "metadata": {},
   "outputs": [],
   "source": []
  }
 ],
 "metadata": {
  "kernelspec": {
   "display_name": "Python 3",
   "language": "python",
   "name": "python3"
  },
  "language_info": {
   "codemirror_mode": {
    "name": "ipython",
    "version": 3
   },
   "file_extension": ".py",
   "mimetype": "text/x-python",
   "name": "python",
   "nbconvert_exporter": "python",
   "pygments_lexer": "ipython3",
   "version": "3.6.5"
  }
 },
 "nbformat": 4,
 "nbformat_minor": 2
}
