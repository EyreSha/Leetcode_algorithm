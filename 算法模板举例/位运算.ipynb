{
 "cells": [
  {
   "cell_type": "code",
   "execution_count": 1,
   "metadata": {},
   "outputs": [
    {
     "name": "stdout",
     "output_type": "stream",
     "text": [
      "2\n"
     ]
    }
   ],
   "source": [
    "#\n",
    "\"\"\"\n",
    "461 汉明距离: 这两个数字对应二进制位不同的位置的数目 \n",
    "位运算\n",
    "布赖恩·克尼根算法\n",
    "遇到最右边的 1 后，如果可以跳过中间的 0，直接跳到下一个 1，效率会高很多。\n",
    "\n",
    "这是布赖恩·克尼根位计数算法的基本思想。该算法使用特定比特位和算术运算移除等于 1 的最右比特位\n",
    "\"\"\"\n",
    "def hammingDistance(x, y):\n",
    "    xor = x ^ y\n",
    "    cnt = 0\n",
    "    while xor:\n",
    "        xor = xor & (xor-1) #可以迅速检测最右边的第一个非零\n",
    "        cnt += 1\n",
    "    return cnt\n",
    "\n",
    "x = 1\n",
    "y = 4\n",
    "print(hammingDistance(x, y))"
   ]
  },
  {
   "cell_type": "code",
   "execution_count": 2,
   "metadata": {},
   "outputs": [
    {
     "name": "stdout",
     "output_type": "stream",
     "text": [
      "0b101\n",
      "2\n"
     ]
    }
   ],
   "source": [
    "\"\"\"\n",
    "461 优化\n",
    "python一行代码，内置函数\n",
    "\"\"\"\n",
    "def hammingDistance(x, y):\n",
    "    print(bin(x ^ y))\n",
    "    return bin(x ^ y).count('1')\n",
    "    \n",
    "x = 1\n",
    "y = 4\n",
    "print(hammingDistance(x, y))"
   ]
  },
  {
   "cell_type": "code",
   "execution_count": null,
   "metadata": {},
   "outputs": [],
   "source": [
    "\"\"\"\n",
    "461 位移\n",
    "\"\"\"\n",
    "def hammingDistance(x, y):\n",
    "    xor = x ^ y\n",
    "    distance = 0\n",
    "    while xor:\n",
    "        # mask out the rest bits\n",
    "        if xor & 1:\n",
    "            distance += 1\n",
    "            xor = xor >> 1\n",
    "    return distance\n",
    "\n",
    "x = 1\n",
    "y = 4\n",
    "print(hammingDistance(x, y))"
   ]
  },
  {
   "cell_type": "code",
   "execution_count": 21,
   "metadata": {},
   "outputs": [
    {
     "name": "stdout",
     "output_type": "stream",
     "text": [
      "-0b101\n"
     ]
    }
   ],
   "source": [
    "a = 0b10111000\n",
    "b = 0b00000001\n",
    "c = bin(a-b)\n",
    "d = bin(a&(0b10110111))\n",
    "\n",
    "\n",
    "x = 0b1011\n",
    "y = ~((1<<(1+1))-1)\n",
    "print(bin(y))"
   ]
  },
  {
   "cell_type": "code",
   "execution_count": null,
   "metadata": {},
   "outputs": [],
   "source": []
  }
 ],
 "metadata": {
  "kernelspec": {
   "display_name": "Python 3",
   "language": "python",
   "name": "python3"
  },
  "language_info": {
   "codemirror_mode": {
    "name": "ipython",
    "version": 3
   },
   "file_extension": ".py",
   "mimetype": "text/x-python",
   "name": "python",
   "nbconvert_exporter": "python",
   "pygments_lexer": "ipython3",
   "version": "3.6.5"
  }
 },
 "nbformat": 4,
 "nbformat_minor": 2
}
