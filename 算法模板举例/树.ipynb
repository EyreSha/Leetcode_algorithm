{
 "cells": [
  {
   "cell_type": "code",
   "execution_count": 2,
   "metadata": {},
   "outputs": [
    {
     "name": "stdout",
     "output_type": "stream",
     "text": [
      "<__main__.TreeNode object at 0x000001BDFB71DA20>\n"
     ]
    }
   ],
   "source": [
    "# 二叉树遍历\n",
    "\"\"\"\n",
    "106 根据二叉树遍历推出二叉树\n",
    "\"\"\"\n",
    "class TreeNode:\n",
    "    def __init__(self, val=0, left=None, right=None):\n",
    "        self.val = val\n",
    "        self.left = left\n",
    "        self.right = right\n",
    "\n",
    "def buildTree(inorder, postorder):\n",
    "    def helper(in_left, in_right):\n",
    "        # 如果这里没有节点构造二叉树了，就结束\n",
    "        if in_left > in_right:\n",
    "            return None\n",
    "            \n",
    "        # 选择 post_idx 位置的元素作为当前子树根节点\n",
    "        val = postorder.pop() # 后序遍历的最后一个元素是根节点\n",
    "        root = TreeNode(val)\n",
    "\n",
    "        # 根据 root 所在位置分成左右两棵子树\n",
    "        index = idx_map[val]\n",
    " \n",
    "        # 构造右子树\n",
    "        root.right = helper(index + 1, in_right)\n",
    "        # 构造左子树\n",
    "        root.left = helper(in_left, index - 1)\n",
    "        return root\n",
    "        \n",
    "    # 建立（元素，下标）键值对的哈希表\n",
    "    idx_map = {val:idx for idx, val in enumerate(inorder)} \n",
    "    return helper(0, len(inorder) - 1)\n",
    "\n",
    "inorder = [9,3,15,20,7]\n",
    "postorder = [9,15,7,20,3]\n",
    "print(buildTree(inorder, postorder))"
   ]
  },
  {
   "cell_type": "code",
   "execution_count": 1,
   "metadata": {},
   "outputs": [
    {
     "ename": "TypeError",
     "evalue": "mergeTrees() missing 1 required positional argument: 'root2'",
     "output_type": "error",
     "traceback": [
      "\u001b[1;31m---------------------------------------------------------------------------\u001b[0m",
      "\u001b[1;31mTypeError\u001b[0m                                 Traceback (most recent call last)",
      "\u001b[1;32m<ipython-input-1-1a4768ee8673>\u001b[0m in \u001b[0;36m<module>\u001b[1;34m()\u001b[0m\n\u001b[0;32m     29\u001b[0m \u001b[0mtree2\u001b[0m \u001b[1;33m=\u001b[0m \u001b[1;33m[\u001b[0m\u001b[1;36m2\u001b[0m\u001b[1;33m,\u001b[0m\u001b[1;36m1\u001b[0m\u001b[1;33m,\u001b[0m\u001b[1;36m3\u001b[0m\u001b[1;33m,\u001b[0m\u001b[1;36m4\u001b[0m\u001b[1;33m,\u001b[0m\u001b[1;36m7\u001b[0m\u001b[1;33m]\u001b[0m\u001b[1;33m\u001b[0m\u001b[0m\n\u001b[0;32m     30\u001b[0m \u001b[1;33m\u001b[0m\u001b[0m\n\u001b[1;32m---> 31\u001b[1;33m \u001b[0mSolution\u001b[0m\u001b[1;33m.\u001b[0m\u001b[0mmergeTrees\u001b[0m\u001b[1;33m(\u001b[0m\u001b[0mtree1\u001b[0m\u001b[1;33m[\u001b[0m\u001b[1;36m0\u001b[0m\u001b[1;33m]\u001b[0m\u001b[1;33m,\u001b[0m \u001b[0mtree2\u001b[0m\u001b[1;33m[\u001b[0m\u001b[1;36m0\u001b[0m\u001b[1;33m]\u001b[0m\u001b[1;33m)\u001b[0m\u001b[1;33m\u001b[0m\u001b[0m\n\u001b[0m",
      "\u001b[1;31mTypeError\u001b[0m: mergeTrees() missing 1 required positional argument: 'root2'"
     ]
    }
   ],
   "source": [
    "# 深度优先搜索\n",
    "\"\"\"\n",
    "417 二叉树合并\n",
    "深度优先搜索\n",
    "tips:\n",
    "注意测试的输入以及类的使用方法\n",
    "\"\"\"\n",
    "# Definition for a binary tree node.\n",
    "class TreeNode:\n",
    "    def __init__(self, val=0, left=None, right=None):\n",
    "        self.val = val\n",
    "        self.left = left\n",
    "        self.right = right\n",
    "        \n",
    "class Solution:\n",
    "    def mergeTrees(self, root1: TreeNode, root2: TreeNode) -> TreeNode:\n",
    "        if not root1:\n",
    "            return root2\n",
    "        if not root2:\n",
    "            return root1\n",
    "        \n",
    "        result = TreeNode(root1.val+root2.val)\n",
    "        result.left = self.mergeTrees(root1.left, root2.left)\n",
    "        result.right = self.mergeTrees(root1.right, root2.right)\n",
    "\n",
    "        return result\n",
    "\n",
    "tree1 = [1,3,2,5]\n",
    "tree2 = [2,1,3,4,7]\n",
    "\n",
    "Solution.mergeTrees(tree1[0], tree2[0])"
   ]
  },
  {
   "cell_type": "code",
   "execution_count": null,
   "metadata": {},
   "outputs": [],
   "source": [
    "# B-树\n"
   ]
  },
  {
   "cell_type": "code",
   "execution_count": null,
   "metadata": {},
   "outputs": [],
   "source": [
    "# B+树\n"
   ]
  },
  {
   "cell_type": "code",
   "execution_count": null,
   "metadata": {},
   "outputs": [],
   "source": [
    "# 红黑树\n"
   ]
  }
 ],
 "metadata": {
  "kernelspec": {
   "display_name": "Python 3",
   "language": "python",
   "name": "python3"
  },
  "language_info": {
   "codemirror_mode": {
    "name": "ipython",
    "version": 3
   },
   "file_extension": ".py",
   "mimetype": "text/x-python",
   "name": "python",
   "nbconvert_exporter": "python",
   "pygments_lexer": "ipython3",
   "version": "3.6.5"
  }
 },
 "nbformat": 4,
 "nbformat_minor": 2
}
